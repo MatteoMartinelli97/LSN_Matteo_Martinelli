{
 "cells": [
  {
   "cell_type": "markdown",
   "metadata": {},
   "source": [
    "# <span style=\"color:navy\"> Numerical Simulation Laboratory\n",
    "# <span style=\"color:orange\"> Numerical Exercises 12\n",
    "### Keras - Deep & Convolutional Neural Network image recognition"
   ]
  },
  {
   "cell_type": "markdown",
   "metadata": {},
   "source": [
    "#### <span style=\"color:black\"> Exercise 12.1 </span>"
   ]
  },
  {
   "cell_type": "markdown",
   "metadata": {},
   "source": [
    "In this first exercises we were provided a code that performed with a Deep Neural Network (DNN) an imaging recognition of a digit. I changed three different kinds of optimizers (added to the given *sgd*): \n",
    "1. Adagrad\n",
    "2. RMSprop\n",
    "3. Nadam\n",
    "\n",
    "The different DNNs had been saved in order not to have to train the networks every time, but the structure is the following: \n",
    " - 400 neurons layer, activation = *relu*\n",
    " - 100 neurons layer, activation = *relu*\n",
    " - Dropout at 50%\n",
    " - 10 neurons layer, activation = *softmax*, this layer is necessary for classification networks\n",
    "\n",
    "The training and validation datasets are the same for all networks and are imported from MNIST, and the loss function is the *categorical cross entropy* often used for classification problems.\n",
    "\n",
    "In the following cells are the importation of datasets and function to design and compile the DNN, after them rhe results are presented."
   ]
  },
  {
   "cell_type": "code",
   "execution_count": 2,
   "metadata": {},
   "outputs": [
    {
     "name": "stderr",
     "output_type": "stream",
     "text": [
      "/home/matteo/.conda/envs/intelpython3/lib/python3.6/site-packages/h5py/__init__.py:36: FutureWarning: Conversion of the second argument of issubdtype from `float` to `np.floating` is deprecated. In future, it will be treated as `np.float64 == np.dtype(float).type`.\n",
      "  from ._conv import register_converters as _register_converters\n"
     ]
    }
   ],
   "source": [
    "import tensorflow as tf\n",
    "from tensorflow import keras\n",
    "import os\n",
    "import numpy as np\n",
    "import matplotlib.pyplot as plt\n",
    "seed=0\n",
    "np.random.seed(seed) # fix random seed\n",
    "tf.set_random_seed(seed)"
   ]
  },
  {
   "cell_type": "code",
   "execution_count": 3,
   "metadata": {},
   "outputs": [
    {
     "name": "stderr",
     "output_type": "stream",
     "text": [
      "Using TensorFlow backend.\n"
     ]
    },
    {
     "name": "stdout",
     "output_type": "stream",
     "text": [
      "X_train shape: (60000, 28, 28)\n",
      "Y_train shape: (60000,)\n",
      "\n",
      "60000 train samples\n",
      "10000 test samples\n",
      "an example of a data point with label 4\n"
     ]
    },
    {
     "data": {
      "image/png": "[encoded data removed]",
      "text/plain": [
       "<Figure size 288x288 with 1 Axes>"
      ]
     },
     "metadata": {},
     "output_type": "display_data"
    },
    {
     "name": "stdout",
     "output_type": "stream",
     "text": [
      "an example of a data point with label 4 before to_categorical ...\n",
      "... and with label [0. 0. 0. 0. 1. 0. 0. 0. 0. 0.] after to_categorical\n",
      "\n",
      "X_train shape: (60000, 784)\n",
      "Y_train shape: (60000, 10)\n"
     ]
    }
   ],
   "source": [
    "from keras.datasets import mnist\n",
    "\n",
    "# input image dimensions\n",
    "img_rows, img_cols = 28, 28 # number of pixels \n",
    "# output\n",
    "num_classes = 10 # 10 digits\n",
    "\n",
    "# the data, split between train and test sets\n",
    "(X_train, Y_train), (X_test, Y_test) = mnist.load_data()  #divide data in train and test automatically\n",
    "\n",
    "print('X_train shape:', X_train.shape)\n",
    "print('Y_train shape:', Y_train.shape)\n",
    "print()\n",
    "print(X_train.shape[0], 'train samples')\n",
    "print(X_test.shape[0], 'test samples')\n",
    "\n",
    "\n",
    "# reshape data, it could depend on Keras backend\n",
    "X_train = X_train.reshape(X_train.shape[0], img_rows*img_cols)\n",
    "X_test = X_test.reshape(X_test.shape[0], img_rows*img_cols)\n",
    "\n",
    "# cast floats to single precesion\n",
    "X_train = X_train.astype('float32')\n",
    "X_test = X_test.astype('float32')\n",
    "\n",
    "# rescale data in interval [0,1]\n",
    "X_train /= 255\n",
    "X_test /= 255\n",
    "\n",
    "\n",
    "# look at an example of data point\n",
    "print('an example of a data point with label', Y_train[20])\n",
    "# matshow: display a matrix in a new figure window\n",
    "plt.matshow(X_train[20,:].reshape(28,28),cmap='binary')\n",
    "plt.show()\n",
    "\n",
    "print('an example of a data point with label', Y_train[20], 'before to_categorical ...')\n",
    "# convert class vectors to binary class matrices, e.g. for use with categorical_crossentropy\n",
    "Y_train = keras.utils.to_categorical(Y_train, num_classes) #makes the number become a vector of all zeros but the position of number (which is one)\n",
    "Y_test = keras.utils.to_categorical(Y_test, num_classes)\n",
    "print('... and with label', Y_train[20], 'after to_categorical')\n",
    "print()\n",
    "print('X_train shape:', X_train.shape)\n",
    "print('Y_train shape:', Y_train.shape)"
   ]
  },
  {
   "cell_type": "code",
   "execution_count": 3,
   "metadata": {},
   "outputs": [
    {
     "data": {
      "text/plain": [
       "\"\\nfrom keras.models import Sequential\\nfrom keras.layers import Dense, Dropout\\n\\ndef create_DNN():\\n#model for a Deep Neural Netwirk (standard)\\n#not convolutional\\n    # instantiate model\\n    model = Sequential()\\n    # add a dense all-to-all relu layer\\n    model.add(Dense(400,input_shape=(img_rows*img_cols,), activation='relu'))\\n    # add a dense all-to-all relu layer\\n    model.add(Dense(100, activation='relu'))\\n    # apply dropout with rate 0.5\\n    model.add(Dropout(0.5)) #sometimes off 50% of neurons (avoid overfitting)\\n    # soft-max layer\\n    model.add(Dense(num_classes, activation='softmax'))\\n    \\n    return model\\n\\nprint('Model architecture created successfully!')\\n\""
      ]
     },
     "execution_count": 3,
     "metadata": {},
     "output_type": "execute_result"
    }
   ],
   "source": [
    "#the following cells are commented since all models have already been trained\n",
    "#I just load the models and evaluate them \n",
    "#if one may wants to create/retrain a model just uncomment\n",
    "#designed here there's the best one I found in the attempts\n",
    "\"\"\"\n",
    "from keras.models import Sequential\n",
    "from keras.layers import Dense, Dropout\n",
    "\n",
    "def create_DNN():\n",
    "#model for a Deep Neural Netwirk (standard)\n",
    "#not convolutional\n",
    "    # instantiate model\n",
    "    model = Sequential()\n",
    "    # add a dense all-to-all relu layer\n",
    "    model.add(Dense(400,input_shape=(img_rows*img_cols,), activation='relu'))\n",
    "    # add a dense all-to-all relu layer\n",
    "    model.add(Dense(100, activation='relu'))\n",
    "    # apply dropout with rate 0.5\n",
    "    model.add(Dropout(0.5)) #sometimes off 50% of neurons (avoid overfitting)\n",
    "    # soft-max layer\n",
    "    model.add(Dense(num_classes, activation='softmax'))\n",
    "    \n",
    "    return model\n",
    "\n",
    "print('Model architecture created successfully!')\n",
    "\"\"\""
   ]
  },
  {
   "cell_type": "code",
   "execution_count": 4,
   "metadata": {},
   "outputs": [
    {
     "data": {
      "text/plain": [
       "\"\\nfrom keras.optimizers import SGD, Adam, RMSprop, Adagrad, Adadelta, Adam, Adamax, Nadam\\n\\ndef compile_model():\\n    # create the model\\n    model=create_DNN()\\n    # compile the model\\n    #use cross_entropy because I need to have or 1 or 0 (right or fail)\\n    model.compile(loss=keras.losses.categorical_crossentropy,\\n                  optimizer=Adagrad(),\\n                  metrics=['accuracy'])\\n    return model\\n\\nprint('Model compiled successfully and ready to be trained.')\\n\""
      ]
     },
     "execution_count": 4,
     "metadata": {},
     "output_type": "execute_result"
    }
   ],
   "source": [
    "\"\"\"\n",
    "from keras.optimizers import SGD, Adam, RMSprop, Adagrad, Adadelta, Adam, Adamax, Nadam\n",
    "\n",
    "def compile_model():\n",
    "    # create the model\n",
    "    model=create_DNN()\n",
    "    # compile the model\n",
    "    #use cross_entropy because I need to have or 1 or 0 (right or fail)\n",
    "    model.compile(loss=keras.losses.categorical_crossentropy,\n",
    "                  optimizer=Adagrad(),\n",
    "                  metrics=['accuracy'])\n",
    "    return model\n",
    "\n",
    "print('Model compiled successfully and ready to be trained.')\n",
    "\"\"\""
   ]
  },
  {
   "cell_type": "code",
   "execution_count": 5,
   "metadata": {},
   "outputs": [
    {
     "data": {
      "text/plain": [
       "\"\\n# training parameters\\nbatch_size = 32\\nepochs = 5\\n#one epoch is to divide training data in group of batch_size, the epoch does not end if all data have not been used yet\\n\\n# create the deep neural net\\nmodel_DNN = compile_model()\\n\\n# train DNN and store training info in history\\nhistory = model_DNN.fit(X_train, Y_train,\\n          batch_size=batch_size,\\n          epochs=epochs,\\n          verbose=1, #ask to write what's happening\\n          validation_data=(X_test, Y_test))\\n\""
      ]
     },
     "execution_count": 5,
     "metadata": {},
     "output_type": "execute_result"
    }
   ],
   "source": [
    "\"\"\"\n",
    "# training parameters\n",
    "batch_size = 32\n",
    "epochs = 5\n",
    "#one epoch is to divide training data in group of batch_size, the epoch does not end if all data have not been used yet\n",
    "\n",
    "# create the deep neural net\n",
    "model_DNN = compile_model()\n",
    "\n",
    "# train DNN and store training info in history\n",
    "history = model_DNN.fit(X_train, Y_train,\n",
    "          batch_size=batch_size,\n",
    "          epochs=epochs,\n",
    "          verbose=1, #ask to write what's happening\n",
    "          validation_data=(X_test, Y_test))\n",
    "\"\"\""
   ]
  },
  {
   "cell_type": "code",
   "execution_count": 6,
   "metadata": {},
   "outputs": [
    {
     "data": {
      "text/plain": [
       "\"\\n# summarize history for accuracy\\nplt.plot(history.history['acc'])\\nplt.plot(history.history['val_acc'])\\nplt.ylabel('model accuracy')\\nplt.xlabel('epoch')\\nplt.legend(['train', 'test'], loc='best')\\nplt.show()\\n\\n# summarize history for loss\\nplt.plot(history.history['loss'])\\nplt.plot(history.history['val_loss'])\\nplt.ylabel('model loss')\\nplt.xlabel('epoch')\\nplt.legend(['train', 'test'], loc='best')\\nplt.show()\\n\""
      ]
     },
     "execution_count": 6,
     "metadata": {},
     "output_type": "execute_result"
    }
   ],
   "source": [
    "\"\"\"\n",
    "# evaluate model\n",
    "score = model_DNN.evaluate(X_test, Y_test, verbose=1)\n",
    "\n",
    "# print performance\n",
    "print()\n",
    "print('Test loss:', score[0])\n",
    "print('Test accuracy:', score[1])\n",
    "\"\"\"\n",
    "\n",
    "\n",
    "# look into training history\n",
    "#if not training any network there won't be any history\n",
    "#uncomment only if re-training a network or training a new network\n",
    "\"\"\"\n",
    "# summarize history for accuracy\n",
    "plt.plot(history.history['acc'])\n",
    "plt.plot(history.history['val_acc'])\n",
    "plt.ylabel('model accuracy')\n",
    "plt.xlabel('epoch')\n",
    "plt.legend(['train', 'test'], loc='best')\n",
    "plt.show()\n",
    "\n",
    "# summarize history for loss\n",
    "plt.plot(history.history['loss'])\n",
    "plt.plot(history.history['val_loss'])\n",
    "plt.ylabel('model loss')\n",
    "plt.xlabel('epoch')\n",
    "plt.legend(['train', 'test'], loc='best')\n",
    "plt.show()\n",
    "\"\"\""
   ]
  },
  {
   "cell_type": "markdown",
   "metadata": {},
   "source": [
    "###### Results\n",
    "Following are the prediction for the 4 different optimizers on 10 different handwritten digits, as the test accuracy says *Adagrad, Nadam* and *RMSprop* are approximately equivalent, with a slight advantage for *Adagrad*. On the test digits *Adagrad* and *RMSprop* are are able to predict all right numbers, while the other two make both one mistake. \n"
   ]
  },
  {
   "cell_type": "code",
   "execution_count": 7,
   "metadata": {
    "scrolled": false
   },
   "outputs": [
    {
     "name": "stdout",
     "output_type": "stream",
     "text": [
      "SDG\n",
      "WARNING:tensorflow:From /home/matteo/.conda/envs/intelpython3/lib/python3.6/site-packages/tensorflow/python/ops/resource_variable_ops.py:435: colocate_with (from tensorflow.python.framework.ops) is deprecated and will be removed in a future version.\n",
      "Instructions for updating:\n",
      "Colocations handled automatically by placer.\n",
      "WARNING:tensorflow:From /home/matteo/.conda/envs/intelpython3/lib/python3.6/site-packages/tensorflow/python/keras/layers/core.py:143: calling dropout (from tensorflow.python.ops.nn_ops) with keep_prob is deprecated and will be removed in a future version.\n",
      "Instructions for updating:\n",
      "Please use `rate` instead of `keep_prob`. Rate should be set to `rate = 1 - keep_prob`.\n",
      "WARNING:tensorflow:From /home/matteo/.conda/envs/intelpython3/lib/python3.6/site-packages/tensorflow/python/ops/math_ops.py:3066: to_int32 (from tensorflow.python.ops.math_ops) is deprecated and will be removed in a future version.\n",
      "Instructions for updating:\n",
      "Use tf.cast instead.\n",
      "10000/10000 [==============================] - 1s 127us/sample - loss: 0.1586 - acc: 0.9537\n",
      "Performance on validation data\n",
      "Test loss: 0.1586065290339291\n",
      "Test accuracy: 0.9537\n",
      "\n",
      "60000/60000 [==============================] - 4s 73us/sample - loss: 0.1579 - acc: 0.9528\n",
      "Performance on training data\n",
      "Test loss: 0.15791640853782496\n",
      "Test accuracy: 0.95283335\n",
      "\n"
     ]
    },
    {
     "data": {
      "image/png": "[encoded data removed]",
      "text/plain": [
       "<Figure size 1080x1080 with 10 Axes>"
      ]
     },
     "metadata": {},
     "output_type": "display_data"
    },
    {
     "name": "stdout",
     "output_type": "stream",
     "text": [
      "Adagrad\n",
      "10000/10000 [==============================] - 1s 107us/sample - loss: 0.0729 - acc: 0.9775\n",
      "Performance on validation data\n",
      "Test loss: 0.07287969364253805\n",
      "Test accuracy: 0.9775\n",
      "\n",
      "60000/60000 [==============================] - 4s 71us/sample - loss: 0.0492 - acc: 0.9857\n",
      "Performance on training data\n",
      "Test loss: 0.049209839065140114\n",
      "Test accuracy: 0.98571664\n",
      "\n"
     ]
    },
    {
     "data": {
      "image/png": "[encoded data removed]",
      "text/plain": [
       "<Figure size 1080x1080 with 10 Axes>"
      ]
     },
     "metadata": {},
     "output_type": "display_data"
    },
    {
     "name": "stdout",
     "output_type": "stream",
     "text": [
      "RMSprop\n",
      "10000/10000 [==============================] - 1s 85us/sample - loss: 0.1505 - acc: 0.9751\n",
      "Performance on validation data\n",
      "Test loss: 0.15046292987385304\n",
      "Test accuracy: 0.9751\n",
      "\n",
      "60000/60000 [==============================] - 5s 77us/sample - loss: 0.0776 - acc: 0.9853\n",
      "Performance on training data\n",
      "Test loss: 0.07757968766050305\n",
      "Test accuracy: 0.9853333\n",
      "\n"
     ]
    },
    {
     "data": {
      "image/png": "[encoded data removed]",
      "text/plain": [
       "<Figure size 1080x1080 with 10 Axes>"
      ]
     },
     "metadata": {},
     "output_type": "display_data"
    },
    {
     "name": "stdout",
     "output_type": "stream",
     "text": [
      "Nadam\n",
      "10000/10000 [==============================] - 1s 92us/sample - loss: 0.1010 - acc: 0.9765\n",
      "Performance on validation data\n",
      "Test loss: 0.10097104007717916\n",
      "Test accuracy: 0.9765\n",
      "\n",
      "60000/60000 [==============================] - 4s 73us/sample - loss: 0.0425 - acc: 0.9880\n",
      "Performance on training data\n",
      "Test loss: 0.04252628523610862\n",
      "Test accuracy: 0.98796666\n",
      "\n"
     ]
    },
    {
     "data": {
      "image/png": "[encoded data removed]",
      "text/plain": [
       "<Figure size 1080x1080 with 10 Axes>"
      ]
     },
     "metadata": {},
     "output_type": "display_data"
    }
   ],
   "source": [
    "from tensorflow.keras.models import load_model\n",
    "\n",
    "######################\n",
    "print(\"SDG\")\n",
    "X_test = X_test.reshape(X_test.shape[0], img_rows*img_cols)\n",
    "\n",
    "model_DNN = load_model(\"Saved/DNN_SGD.mod\")\n",
    "predictions = model_DNN.predict(X_test)\n",
    "\n",
    "# evaluate model\n",
    "score = model_DNN.evaluate(X_test, Y_test, verbose=1)\n",
    "\n",
    "print(\"Performance on validation data\")\n",
    "print('Test loss:', score[0])\n",
    "print('Test accuracy:', score[1])\n",
    "print()\n",
    "\n",
    "score = model_DNN.evaluate(X_train, Y_train, batch_size=32, verbose=1)\n",
    "\n",
    "print(\"Performance on training data\")\n",
    "print('Test loss:', score[0])\n",
    "print('Test accuracy:', score[1])\n",
    "print()\n",
    "\n",
    "\n",
    "X_test = X_test.reshape(X_test.shape[0], img_rows, img_cols,1)\n",
    "\n",
    "fig = plt.figure(figsize=(15, 15))\n",
    "for i in range(10):    \n",
    "    ax = plt.subplot(2, 10, i + 1)    \n",
    "    plt.imshow(X_test[i, :, :, 0], cmap='gray')    \n",
    "    plt.title(\"Digit: {}\\nPredicted: {}\".format(np.argmax(Y_test[i]), np.argmax(predictions[i])))    \n",
    "    plt.axis('off') \n",
    "plt.show()\n",
    "########################\n",
    "\n",
    "\n",
    "print(\"Adagrad\")\n",
    "X_test = X_test.reshape(X_test.shape[0], img_rows*img_cols)\n",
    "\n",
    "model_DNN = load_model(\"Saved/DNN_Adagrad.mod\")\n",
    "predictions = model_DNN.predict(X_test)\n",
    "\n",
    "# evaluate model\n",
    "score = model_DNN.evaluate(X_test, Y_test, verbose=1)\n",
    "\n",
    "print(\"Performance on validation data\")\n",
    "print('Test loss:', score[0])\n",
    "print('Test accuracy:', score[1])\n",
    "print()\n",
    "\n",
    "score = model_DNN.evaluate(X_train, Y_train, batch_size=32, verbose=1)\n",
    "\n",
    "print(\"Performance on training data\")\n",
    "print('Test loss:', score[0])\n",
    "print('Test accuracy:', score[1])\n",
    "print()\n",
    "\n",
    "X_test = X_test.reshape(X_test.shape[0], img_rows, img_cols,1)\n",
    "    \n",
    "\n",
    "fig = plt.figure(figsize=(15, 15))\n",
    "for i in range(10):    \n",
    "    ax = plt.subplot(3, 10, i + 1)    \n",
    "    plt.imshow(X_test[i, :, :, 0], cmap='gray')    \n",
    "    plt.title(\"Digit: {}\\nPredicted: {}\".format(np.argmax(Y_test[i]), np.argmax(predictions[i])))    \n",
    "    plt.axis('off') \n",
    "plt.show()\n",
    "#########################\n",
    "\n",
    "print(\"RMSprop\")\n",
    "X_test = X_test.reshape(X_test.shape[0], img_rows*img_cols)\n",
    "\n",
    "model_DNN = load_model(\"Saved/DNN_RMSprop.mod\")\n",
    "predictions = model_DNN.predict(X_test)\n",
    "\n",
    "# evaluate model\n",
    "score = model_DNN.evaluate(X_test, Y_test, verbose=1)\n",
    "\n",
    "print(\"Performance on validation data\")\n",
    "print('Test loss:', score[0])\n",
    "print('Test accuracy:', score[1])\n",
    "print()\n",
    "\n",
    "score = model_DNN.evaluate(X_train, Y_train, batch_size=32, verbose=1)\n",
    "\n",
    "print(\"Performance on training data\")\n",
    "print('Test loss:', score[0])\n",
    "print('Test accuracy:', score[1])\n",
    "print()\n",
    "\n",
    "X_test = X_test.reshape(X_test.shape[0], img_rows, img_cols,1)\n",
    "    \n",
    "\n",
    "fig = plt.figure(figsize=(15, 15))   \n",
    "for i in range(10):\n",
    "    ax = plt.subplot(2, 10, i + 1)    \n",
    "    plt.imshow(X_test[i, :, :, 0], cmap='gray')    \n",
    "    plt.title(\"Digit: {}\\nPredicted: {}\".format(np.argmax(Y_test[i]), np.argmax(predictions[i])))    \n",
    "    plt.axis('off') \n",
    "plt.show()\n",
    "###########################\n",
    "\n",
    "print(\"Nadam\")\n",
    "X_test = X_test.reshape(X_test.shape[0], img_rows*img_cols)\n",
    "\n",
    "model_DNN = load_model(\"Saved/DNN_Nadam.mod\")\n",
    "predictions = model_DNN.predict(X_test)\n",
    "\n",
    "# evaluate model\n",
    "score = model_DNN.evaluate(X_test, Y_test, verbose=1)\n",
    "\n",
    "print(\"Performance on validation data\")\n",
    "print('Test loss:', score[0])\n",
    "print('Test accuracy:', score[1])\n",
    "print()\n",
    "\n",
    "score = model_DNN.evaluate(X_train, Y_train, batch_size=32, verbose=1)\n",
    "\n",
    "print(\"Performance on training data\")\n",
    "print('Test loss:', score[0])\n",
    "print('Test accuracy:', score[1])\n",
    "print()\n",
    "\n",
    "X_test = X_test.reshape(X_test.shape[0], img_rows, img_cols,1)\n",
    "\n",
    "\n",
    "fig = plt.figure(figsize=(15, 15))\n",
    "for i in range(10): \n",
    "    ax = plt.subplot(2, 10, i + 1)    \n",
    "    plt.imshow(X_test[i, :, :, 0], cmap='gray')    \n",
    "    plt.title(\"Digit: {}\\nPredicted: {}\".format(np.argmax(Y_test[i]), np.argmax(predictions[i])))    \n",
    "    plt.axis('off') \n",
    "plt.show()"
   ]
  },
  {
   "cell_type": "markdown",
   "metadata": {},
   "source": [
    "##### <span style=\"color:black\"> Exercise 12.2 </span>"
   ]
  },
  {
   "cell_type": "markdown",
   "metadata": {},
   "source": [
    "The second task of the exercises was to design and train a Convolutional Neural Network (CNN) in order to recognize handwritten digits. This second class of architectures should be speeder and more accurate in this kind of problems for it uses translational symmetry of the problem.  \n",
    "We were given a code to complete that realized a simple CNN and I increased the complexity to have higher accuracy.  \n",
    "I did several attempts, that are for the most saved in the directory *Saved*, but couldn't realize a better result than the one obtained with the DNN.  "
   ]
  },
  {
   "cell_type": "code",
   "execution_count": 15,
   "metadata": {},
   "outputs": [
    {
     "name": "stdout",
     "output_type": "stream",
     "text": [
      "X_train shape: (60000, 28, 28, 1)\n",
      "Y_train shape: (60000, 10)\n",
      "\n",
      "60000 train samples\n",
      "10000 test samples\n",
      "X_train shape: (10000, 28, 28, 1)\n",
      "Y_train shape: (10000, 10)\n"
     ]
    }
   ],
   "source": [
    "# you will need the following for Convolutional Neural Networks\n",
    "from keras.layers import Flatten, Conv2D, MaxPooling2D\n",
    "seed=0\n",
    "np.random.seed(seed) # fix random seed\n",
    "tf.set_random_seed(seed)\n",
    "\n",
    "# reshape data, depending on Keras backend\n",
    "if keras.backend.image_data_format() == 'channels_first':\n",
    "    X_train = X_train.reshape(X_train.shape[0], 1, img_rows, img_cols)\n",
    "    X_test = X_test.reshape(X_test.shape[0], 1, img_rows, img_cols)\n",
    "    input_shape = (1, img_rows, img_cols)\n",
    "else:\n",
    "    X_train = X_train.reshape(X_train.shape[0], img_rows, img_cols, 1)\n",
    "    X_test = X_test.reshape(X_test.shape[0], img_rows, img_cols, 1)\n",
    "    input_shape = (img_rows, img_cols, 1)\n",
    "    \n",
    "print('X_train shape:', X_train.shape)\n",
    "print('Y_train shape:', Y_train.shape)\n",
    "print()\n",
    "print(X_train.shape[0], 'train samples')\n",
    "print(X_test.shape[0], 'test samples')\n",
    "\n",
    "print('X_train shape:', X_test.shape)\n",
    "print('Y_train shape:', Y_test.shape)"
   ]
  },
  {
   "cell_type": "code",
   "execution_count": 9,
   "metadata": {},
   "outputs": [
    {
     "data": {
      "text/plain": [
       "\"\\nfrom keras.models import Sequential\\nfrom keras.layers import Dense, Dropout\\n\\ndef create_CNN():\\n    # instantiate model\\n    model = Sequential()\\n    # add first convolutional layer with 10 filters (dimensionality of output space)\\n    model.add(Conv2D(10, kernel_size=(5, 5),\\n                     activation='relu',\\n                     input_shape=input_shape))\\n    model.add(MaxPooling2D(pool_size=(2,2)))\\n    model.add(Dropout(0.5)) #sometimes off 50% of neurons (avoid overfitting)\\n    model.add(Conv2D(200, kernel_size = (2,2), activation='relu', input_shape=input_shape))\\n    model.add(MaxPooling2D(pool_size=(2,2)))\\n    model.add(Conv2D(25, kernel_size = (2,2), activation='relu', input_shape=input_shape))\\n    model.add(MaxPooling2D(pool_size=(2,2)))\\n    model.add(Flatten())\\n    # soft-max layer\\n    model.add(Dense(num_classes, activation='softmax'))\\n    \\n    # compile the model\\n    model.compile(loss=keras.losses.categorical_crossentropy,\\n                  optimizer='Adagrad',\\n                  metrics=['accuracy'])\\n    return model\\n\""
      ]
     },
     "execution_count": 9,
     "metadata": {},
     "output_type": "execute_result"
    }
   ],
   "source": [
    "#As done before the following cells have the code to compilw a CNN\n",
    "#They are commented since all needed models have been saved and loaded\n",
    "#in this cell is already designed wha I found to be the best CNN I've been able to produce\n",
    "\"\"\"\n",
    "from keras.models import Sequential\n",
    "from keras.layers import Dense, Dropout\n",
    "\n",
    "def create_CNN():\n",
    "    # instantiate model\n",
    "    model = Sequential()\n",
    "    # add first convolutional layer with 10 filters (dimensionality of output space)\n",
    "    model.add(Conv2D(10, kernel_size=(5, 5),\n",
    "                     activation='relu',\n",
    "                     input_shape=input_shape))\n",
    "    model.add(MaxPooling2D(pool_size=(2,2)))\n",
    "    model.add(Dropout(0.5)) #sometimes off 50% of neurons (avoid overfitting)\n",
    "    model.add(Conv2D(200, kernel_size = (2,2), activation='relu', input_shape=input_shape))\n",
    "    model.add(MaxPooling2D(pool_size=(2,2)))\n",
    "    model.add(Conv2D(25, kernel_size = (2,2), activation='relu', input_shape=input_shape))\n",
    "    model.add(MaxPooling2D(pool_size=(2,2)))\n",
    "    model.add(Flatten())\n",
    "    # soft-max layer\n",
    "    model.add(Dense(num_classes, activation='softmax'))\n",
    "    \n",
    "    # compile the model\n",
    "    model.compile(loss=keras.losses.categorical_crossentropy,\n",
    "                  optimizer='Adagrad',\n",
    "                  metrics=['accuracy'])\n",
    "    return model\n",
    "\"\"\""
   ]
  },
  {
   "cell_type": "code",
   "execution_count": 10,
   "metadata": {},
   "outputs": [],
   "source": [
    "#model = create_CNN()\n",
    "#model.summary()"
   ]
  },
  {
   "cell_type": "code",
   "execution_count": 11,
   "metadata": {},
   "outputs": [
    {
     "data": {
      "text/plain": [
       "\"\\n#training and evaluation of the new created CNN\\n\\n# training parameters\\nbatch_size = 32\\nepochs = 5\\n\\n# create the deep conv net\\nmodel_CNN=create_CNN()\\n\\n# train CNN\\nmodel_CNN.fit(X_train, Y_train,\\n          batch_size=batch_size,\\n          epochs=epochs,\\n          verbose=1,\\n          shuffle = True,\\n          validation_data=(X_test, Y_test))\\n\\n# evaluate model\\nscore = model_CNN.evaluate(X_test, Y_test, verbose=1)\\n\\n# print performance\\nprint()\\nprint('Test loss:', score[0])\\nprint('Test accuracy:', score[1])\\n\""
      ]
     },
     "execution_count": 11,
     "metadata": {},
     "output_type": "execute_result"
    }
   ],
   "source": [
    "\"\"\"\n",
    "#training and evaluation of the new created CNN\n",
    "\n",
    "# training parameters\n",
    "batch_size = 32\n",
    "epochs = 5\n",
    "\n",
    "# create the deep conv net\n",
    "model_CNN=create_CNN()\n",
    "\n",
    "# train CNN\n",
    "model_CNN.fit(X_train, Y_train,\n",
    "          batch_size=batch_size,\n",
    "          epochs=epochs,\n",
    "          verbose=1,\n",
    "          shuffle = True,\n",
    "          validation_data=(X_test, Y_test))\n",
    "\n",
    "# evaluate model\n",
    "score = model_CNN.evaluate(X_test, Y_test, verbose=1)\n",
    "\n",
    "# print performance\n",
    "print()\n",
    "print('Test loss:', score[0])\n",
    "print('Test accuracy:', score[1])\n",
    "\"\"\""
   ]
  },
  {
   "cell_type": "code",
   "execution_count": 12,
   "metadata": {},
   "outputs": [
    {
     "data": {
      "text/plain": [
       "'\\npredictions = model_CNN.predict(X_test)\\n\\nX_test = X_test.reshape(X_test.shape[0], img_rows, img_cols,1)\\n\\nplt.figure(figsize=(15, 15)) \\nfor i in range(10):    \\n    ax = plt.subplot(2, 10, i + 1)    \\n    plt.imshow(X_test[i, :, :, 0], cmap=\\'gray\\')    \\n    plt.title(\"Digit: {}\\nPredicted: {}\".format(np.argmax(Y_test[i]), np.argmax(predictions[i])))    \\n    plt.axis(\\'off\\') \\nplt.show()\\n'"
      ]
     },
     "execution_count": 12,
     "metadata": {},
     "output_type": "execute_result"
    }
   ],
   "source": [
    "#cell for evaluation models\n",
    "\"\"\"\n",
    "predictions = model_CNN.predict(X_test)\n",
    "\n",
    "X_test = X_test.reshape(X_test.shape[0], img_rows, img_cols,1)\n",
    "\n",
    "plt.figure(figsize=(15, 15)) \n",
    "for i in range(10):    \n",
    "    ax = plt.subplot(2, 10, i + 1)    \n",
    "    plt.imshow(X_test[i, :, :, 0], cmap='gray')    \n",
    "    plt.title(\"Digit: {}\\nPredicted: {}\".format(np.argmax(Y_test[i]), np.argmax(predictions[i])))    \n",
    "    plt.axis('off') \n",
    "plt.show()\n",
    "\"\"\""
   ]
  },
  {
   "cell_type": "markdown",
   "metadata": {},
   "source": [
    "***Attempt 1***  \n",
    "As a start I tried to add a couple of layers and a dropout (for avoiding overfitting) to the given initial code, therfore my first CNN has this look:"
   ]
  },
  {
   "cell_type": "markdown",
   "metadata": {},
   "source": [
    "Type of Layer | N filters/neurons | ker / pool size | Activation type\n",
    ":-------------|:-----------------:|:---------------:|:---------------\n",
    "Convolutional | 10                |5,5              |relu            \n",
    "MaxPoolong    |                   |2,2              |            \n",
    "Dense         | 20                |                 |softmax            \n",
    "Dropout 50%   |                   |                 |\n",
    "Convolutional | 10                |2,2              |relu            \n",
    "Flatten       |                   |                 |            \n",
    "Dense         | 5                 |                 |no activation\n",
    "Dense         | 10 (num_class)    |                 |softmax                     "
   ]
  },
  {
   "cell_type": "markdown",
   "metadata": {},
   "source": [
    "As optimizer I used *Adagrad* for all the attempts as it seemed to be the best, and the training is done over *60000* values and validating on *10000 *for *5* epochs for all the CNNs.  \n",
    "The results on data test are not that bad for this CNN, but looking at the reached accuracy with DNN it is likely that an improvement is possible. The values for accuracies in traing and validation data are below."
   ]
  },
  {
   "cell_type": "code",
   "execution_count": 13,
   "metadata": {},
   "outputs": [
    {
     "name": "stdout",
     "output_type": "stream",
     "text": [
      "Attempt 1\n",
      "WARNING:tensorflow:From /home/matteo/.conda/envs/intelpython3/lib/python3.6/site-packages/tensorflow/python/ops/math_grad.py:102: div (from tensorflow.python.ops.math_ops) is deprecated and will be removed in a future version.\n",
      "Instructions for updating:\n",
      "Deprecated in favor of operator or tf.math.divide.\n",
      "10000/10000 [==============================] - 4s 382us/sample - loss: 0.2710 - acc: 0.9250\n",
      "Performance on validation data\n",
      "Test loss: 0.2709630993127823\n",
      "Test accuracy: 0.925\n",
      "\n",
      "60000/60000 [==============================] - 21s 343us/sample - loss: 0.2790 - acc: 0.9222\n",
      "Performance on training data\n",
      "Test loss: 0.2789847047964732\n",
      "Test accuracy: 0.92221665\n",
      "\n"
     ]
    },
    {
     "data": {
      "image/png": "[encoded data removed]",
      "text/plain": [
       "<Figure size 1080x1080 with 10 Axes>"
      ]
     },
     "metadata": {},
     "output_type": "display_data"
    }
   ],
   "source": [
    "from tensorflow.keras.models import load_model\n",
    "\n",
    "######################\n",
    "print(\"Attempt 1\")\n",
    "model_CNN = load_model(\"Saved/1CNN_C10r55_MP22_soft20_DO_C10r22_F_dense5_Adagrad.h5\")\n",
    "predictions = model_CNN.predict(X_test)\n",
    "\n",
    "# evaluate model\n",
    "score = model_CNN.evaluate(X_test, Y_test, verbose=1)\n",
    "\n",
    "print(\"Performance on validation data\")\n",
    "print('Test loss:', score[0])\n",
    "print('Test accuracy:', score[1])\n",
    "print()\n",
    "\n",
    "score = model_CNN.evaluate(X_train, Y_train, batch_size=32, verbose=1)\n",
    "\n",
    "print(\"Performance on training data\")\n",
    "print('Test loss:', score[0])\n",
    "print('Test accuracy:', score[1])\n",
    "print()\n",
    "\n",
    "\n",
    "X_test = X_test.reshape(X_test.shape[0], img_rows, img_cols,1)\n",
    "\n",
    "fig = plt.figure(figsize=(15, 15))\n",
    "for i in range(10):    \n",
    "    ax = plt.subplot(2, 10, i + 1)    \n",
    "    plt.imshow(X_test[i, :, :, 0], cmap='gray')    \n",
    "    plt.title(\"Digit: {}\\nPredicted: {}\".format(np.argmax(Y_test[i]), np.argmax(predictions[i])))    \n",
    "    plt.axis('off') \n",
    "plt.show()\n",
    "########################\n"
   ]
  },
  {
   "cell_type": "markdown",
   "metadata": {},
   "source": [
    "***Attempt 2***  \n",
    "As a second attempt, starting from the previous result I only changed the activation of the dense layer, and its number of neurons, increased the filters in a convolutional layer and add a Maxpooling and removed the second to last dense layer, in order to make it more symmetric. The second attempt look is: "
   ]
  },
  {
   "cell_type": "markdown",
   "metadata": {},
   "source": [
    "Type of Layer | N filters/neurons | ker / pool size | Activation type\n",
    ":-------------|:-----------------:|:---------------:|:---------------\n",
    "Convolutional | 10                |5,5              |relu            \n",
    "MaxPoolong    |                   |2,2              |            \n",
    "Dense         | 10                |                 |sigmoid            \n",
    "Dropout 50%   |                   |                 |\n",
    "Convolutional | 15                |2,2              |relu       \n",
    "MaxPoolong    |                   |4,4              |        \n",
    "Flatten       |                   |                 |            \n",
    "Dense         | 10 (num_class)    |                 |softmax          "
   ]
  },
  {
   "cell_type": "markdown",
   "metadata": {},
   "source": [
    "The results of this attempt could look like a disaster, since the accuracy decreased  lot, but onn the testing data it is  able to recognize every digit, while the first one failed for one. So I didn't totally throw away the changes done."
   ]
  },
  {
   "cell_type": "code",
   "execution_count": 14,
   "metadata": {},
   "outputs": [
    {
     "name": "stdout",
     "output_type": "stream",
     "text": [
      "Attempt 2\n",
      "10000/10000 [==============================] - 3s 323us/sample - loss: 0.6412 - acc: 0.8340\n",
      "Performance on validation data\n",
      "Test loss: 0.6411622544288635\n",
      "Test accuracy: 0.834\n",
      "\n",
      "12384/60000 [=====>........................] - ETA: 14s - loss: 0.6663 - acc: 0.8236"
     ]
    },
    {
     "ename": "KeyboardInterrupt",
     "evalue": "",
     "output_type": "error",
     "traceback": [
      "\u001b[0;31m---------------------------------------------------------------------------\u001b[0m",
      "\u001b[0;31mKeyboardInterrupt\u001b[0m                         Traceback (most recent call last)",
      "\u001b[0;32m<ipython-input-14-5985436639f0>\u001b[0m in \u001b[0;36m<module>\u001b[0;34m()\u001b[0m\n\u001b[1;32m     12\u001b[0m \u001b[0mprint\u001b[0m\u001b[0;34m(\u001b[0m\u001b[0;34m)\u001b[0m\u001b[0;34m\u001b[0m\u001b[0m\n\u001b[1;32m     13\u001b[0m \u001b[0;34m\u001b[0m\u001b[0m\n\u001b[0;32m---> 14\u001b[0;31m \u001b[0mscore\u001b[0m \u001b[0;34m=\u001b[0m \u001b[0mmodel_CNN\u001b[0m\u001b[0;34m.\u001b[0m\u001b[0mevaluate\u001b[0m\u001b[0;34m(\u001b[0m\u001b[0mX_train\u001b[0m\u001b[0;34m,\u001b[0m \u001b[0mY_train\u001b[0m\u001b[0;34m,\u001b[0m \u001b[0mbatch_size\u001b[0m\u001b[0;34m=\u001b[0m\u001b[0;36m32\u001b[0m\u001b[0;34m,\u001b[0m \u001b[0mverbose\u001b[0m\u001b[0;34m=\u001b[0m\u001b[0;36m1\u001b[0m\u001b[0;34m)\u001b[0m\u001b[0;34m\u001b[0m\u001b[0m\n\u001b[0m\u001b[1;32m     15\u001b[0m \u001b[0;34m\u001b[0m\u001b[0m\n\u001b[1;32m     16\u001b[0m \u001b[0mprint\u001b[0m\u001b[0;34m(\u001b[0m\u001b[0;34m\"Performance on training data\"\u001b[0m\u001b[0;34m)\u001b[0m\u001b[0;34m\u001b[0m\u001b[0m\n",
      "\u001b[0;32m~/.conda/envs/intelpython3/lib/python3.6/site-packages/tensorflow/python/keras/engine/training.py\u001b[0m in \u001b[0;36mevaluate\u001b[0;34m(self, x, y, batch_size, verbose, sample_weight, steps, max_queue_size, workers, use_multiprocessing)\u001b[0m\n\u001b[1;32m   1009\u001b[0m           \u001b[0mbatch_size\u001b[0m\u001b[0;34m=\u001b[0m\u001b[0mbatch_size\u001b[0m\u001b[0;34m,\u001b[0m\u001b[0;34m\u001b[0m\u001b[0m\n\u001b[1;32m   1010\u001b[0m           \u001b[0mverbose\u001b[0m\u001b[0;34m=\u001b[0m\u001b[0mverbose\u001b[0m\u001b[0;34m,\u001b[0m\u001b[0;34m\u001b[0m\u001b[0m\n\u001b[0;32m-> 1011\u001b[0;31m           steps=steps)\n\u001b[0m\u001b[1;32m   1012\u001b[0m \u001b[0;34m\u001b[0m\u001b[0m\n\u001b[1;32m   1013\u001b[0m   def predict(self,\n",
      "\u001b[0;32m~/.conda/envs/intelpython3/lib/python3.6/site-packages/tensorflow/python/keras/engine/training_arrays.py\u001b[0m in \u001b[0;36mmodel_iteration\u001b[0;34m(model, inputs, targets, sample_weights, batch_size, epochs, verbose, callbacks, val_inputs, val_targets, val_sample_weights, shuffle, initial_epoch, steps_per_epoch, validation_steps, mode, validation_in_fit, **kwargs)\u001b[0m\n\u001b[1;32m    327\u001b[0m \u001b[0;34m\u001b[0m\u001b[0m\n\u001b[1;32m    328\u001b[0m         \u001b[0;31m# Get outputs.\u001b[0m\u001b[0;34m\u001b[0m\u001b[0;34m\u001b[0m\u001b[0m\n\u001b[0;32m--> 329\u001b[0;31m         \u001b[0mbatch_outs\u001b[0m \u001b[0;34m=\u001b[0m \u001b[0mf\u001b[0m\u001b[0;34m(\u001b[0m\u001b[0mins_batch\u001b[0m\u001b[0;34m)\u001b[0m\u001b[0;34m\u001b[0m\u001b[0m\n\u001b[0m\u001b[1;32m    330\u001b[0m         \u001b[0;32mif\u001b[0m \u001b[0;32mnot\u001b[0m \u001b[0misinstance\u001b[0m\u001b[0;34m(\u001b[0m\u001b[0mbatch_outs\u001b[0m\u001b[0;34m,\u001b[0m \u001b[0mlist\u001b[0m\u001b[0;34m)\u001b[0m\u001b[0;34m:\u001b[0m\u001b[0;34m\u001b[0m\u001b[0m\n\u001b[1;32m    331\u001b[0m           \u001b[0mbatch_outs\u001b[0m \u001b[0;34m=\u001b[0m \u001b[0;34m[\u001b[0m\u001b[0mbatch_outs\u001b[0m\u001b[0;34m]\u001b[0m\u001b[0;34m\u001b[0m\u001b[0m\n",
      "\u001b[0;32m~/.conda/envs/intelpython3/lib/python3.6/site-packages/tensorflow/python/keras/backend.py\u001b[0m in \u001b[0;36m__call__\u001b[0;34m(self, inputs)\u001b[0m\n\u001b[1;32m   3074\u001b[0m \u001b[0;34m\u001b[0m\u001b[0m\n\u001b[1;32m   3075\u001b[0m     fetched = self._callable_fn(*array_vals,\n\u001b[0;32m-> 3076\u001b[0;31m                                 run_metadata=self.run_metadata)\n\u001b[0m\u001b[1;32m   3077\u001b[0m     \u001b[0mself\u001b[0m\u001b[0;34m.\u001b[0m\u001b[0m_call_fetch_callbacks\u001b[0m\u001b[0;34m(\u001b[0m\u001b[0mfetched\u001b[0m\u001b[0;34m[\u001b[0m\u001b[0;34m-\u001b[0m\u001b[0mlen\u001b[0m\u001b[0;34m(\u001b[0m\u001b[0mself\u001b[0m\u001b[0;34m.\u001b[0m\u001b[0m_fetches\u001b[0m\u001b[0;34m)\u001b[0m\u001b[0;34m:\u001b[0m\u001b[0;34m]\u001b[0m\u001b[0;34m)\u001b[0m\u001b[0;34m\u001b[0m\u001b[0m\n\u001b[1;32m   3078\u001b[0m     return nest.pack_sequence_as(self._outputs_structure,\n",
      "\u001b[0;32m~/.conda/envs/intelpython3/lib/python3.6/site-packages/tensorflow/python/client/session.py\u001b[0m in \u001b[0;36m__call__\u001b[0;34m(self, *args, **kwargs)\u001b[0m\n\u001b[1;32m   1437\u001b[0m           ret = tf_session.TF_SessionRunCallable(\n\u001b[1;32m   1438\u001b[0m               \u001b[0mself\u001b[0m\u001b[0;34m.\u001b[0m\u001b[0m_session\u001b[0m\u001b[0;34m.\u001b[0m\u001b[0m_session\u001b[0m\u001b[0;34m,\u001b[0m \u001b[0mself\u001b[0m\u001b[0;34m.\u001b[0m\u001b[0m_handle\u001b[0m\u001b[0;34m,\u001b[0m \u001b[0margs\u001b[0m\u001b[0;34m,\u001b[0m \u001b[0mstatus\u001b[0m\u001b[0;34m,\u001b[0m\u001b[0;34m\u001b[0m\u001b[0m\n\u001b[0;32m-> 1439\u001b[0;31m               run_metadata_ptr)\n\u001b[0m\u001b[1;32m   1440\u001b[0m         \u001b[0;32mif\u001b[0m \u001b[0mrun_metadata\u001b[0m\u001b[0;34m:\u001b[0m\u001b[0;34m\u001b[0m\u001b[0m\n\u001b[1;32m   1441\u001b[0m           \u001b[0mproto_data\u001b[0m \u001b[0;34m=\u001b[0m \u001b[0mtf_session\u001b[0m\u001b[0;34m.\u001b[0m\u001b[0mTF_GetBuffer\u001b[0m\u001b[0;34m(\u001b[0m\u001b[0mrun_metadata_ptr\u001b[0m\u001b[0;34m)\u001b[0m\u001b[0;34m\u001b[0m\u001b[0m\n",
      "\u001b[0;31mKeyboardInterrupt\u001b[0m: "
     ]
    }
   ],
   "source": [
    "print(\"Attempt 2\")\n",
    "    \n",
    "model_CNN = load_model(\"Saved/2CNN_C10r55_MP22_sigm10_DO_C15r22_MP44_F_Adagrad.h5\")\n",
    "predictions = model_CNN.predict(X_test)\n",
    "\n",
    "# evaluate model\n",
    "score = model_CNN.evaluate(X_test, Y_test, verbose=1)\n",
    "\n",
    "print(\"Performance on validation data\")\n",
    "print('Test loss:', score[0])\n",
    "print('Test accuracy:', score[1])\n",
    "print()\n",
    "\n",
    "score = model_CNN.evaluate(X_train, Y_train, batch_size=32, verbose=1)\n",
    "\n",
    "print(\"Performance on training data\")\n",
    "print('Test loss:', score[0])\n",
    "print('Test accuracy:', score[1])\n",
    "print()\n",
    "\n",
    "X_test = X_test.reshape(X_test.shape[0], img_rows, img_cols,1)\n",
    "    \n",
    "\n",
    "fig = plt.figure(figsize=(15, 15))   \n",
    "for i in range(10):\n",
    "    ax = plt.subplot(2, 10, i + 1)    \n",
    "    plt.imshow(X_test[i, :, :, 0], cmap='gray')    \n",
    "    plt.title(\"Digit: {}\\nPredicted: {}\".format(np.argmax(Y_test[i]), np.argmax(predictions[i])))    \n",
    "    plt.axis('off') \n",
    "plt.show()\n",
    "###########################\n"
   ]
  },
  {
   "cell_type": "markdown",
   "metadata": {},
   "source": [
    "***Attempt 3***  \n",
    "Starting from the last CNN I removed completely the dense layers but for the only one needed that is the very last. Moreover I added two new layers, a  convolutional and a maxpooling one and increased the amount of filters. This attempt is:"
   ]
  },
  {
   "cell_type": "markdown",
   "metadata": {},
   "source": [
    "Type of Layer | N filters/neurons | ker / pool size | Activation type\n",
    ":-------------|:-----------------:|:---------------:|:---------------\n",
    "Convolutional | 10                |5,5              |relu            \n",
    "MaxPoolong    |                   |2,2              |             \n",
    "Dropout 50%   |                   |                 |\n",
    "Convolutional | 25                |2,2              |relu       \n",
    "MaxPoolong    |                   |2,2              |        \n",
    "Convolutional | 25                |2,2              |relu    \n",
    "MaxPoolong    |                   |2,2              |        \n",
    "Flatten       |                   |                 |            \n",
    "Dense         | 10 (num_class)    |                 |softmax      "
   ]
  },
  {
   "cell_type": "markdown",
   "metadata": {},
   "source": [
    "What emerges from this attempt is that this new shape of the CNN seems to be a good one, as the accuracy increases a lot, and the capacity of prediction on data test is good. Still the accuracy is quite a lot under the DNN, so I tried to improve more."
   ]
  },
  {
   "cell_type": "code",
   "execution_count": null,
   "metadata": {},
   "outputs": [],
   "source": [
    "print(\"Attempt 3\")\n",
    "    \n",
    "model_CNN = load_model(\"Saved/3CNN_C10r55_MP22_DO_C25r22_MP22_C25r22_MP22_F_Adagrad.h5\")\n",
    "predictions = model_CNN.predict(X_test)\n",
    "\n",
    "# evaluate model\n",
    "score = model_CNN.evaluate(X_test, Y_test, verbose=1)\n",
    "\n",
    "print(\"Performance on validation data\")\n",
    "print('Test loss:', score[0])\n",
    "print('Test accuracy:', score[1])\n",
    "print()\n",
    "\n",
    "score = model_CNN.evaluate(X_train, Y_train, batch_size=32, verbose=1)\n",
    "\n",
    "print(\"Performance on training data\")\n",
    "print('Test loss:', score[0])\n",
    "print('Test accuracy:', score[1])\n",
    "print()\n",
    "\n",
    "X_test = X_test.reshape(X_test.shape[0], img_rows, img_cols,1)\n",
    "    \n",
    "\n",
    "fig = plt.figure(figsize=(15, 15))   \n",
    "for i in range(10):\n",
    "    ax = plt.subplot(2, 10, i + 1)    \n",
    "    plt.imshow(X_test[i, :, :, 0], cmap='gray')    \n",
    "    plt.title(\"Digit: {}\\nPredicted: {}\".format(np.argmax(Y_test[i]), np.argmax(predictions[i])))    \n",
    "    plt.axis('off') \n",
    "plt.show()\n",
    "###########################"
   ]
  },
  {
   "cell_type": "markdown",
   "metadata": {},
   "source": [
    "***Attempt 4***  \n",
    "Having reached a quite good result from now on I started doing very little variation in the network not to destroy what I built. For this reason I only added a dense 20-neurons layer with a sigmoid activation to the end of convolution and poolings, before flattening, as it is the most simple way to add parameters."
   ]
  },
  {
   "cell_type": "markdown",
   "metadata": {},
   "source": [
    "Type of Layer | N filters/neurons | ker / pool size | Activation type\n",
    ":-------------|:-----------------:|:---------------:|:---------------\n",
    "Convolutional | 10                |5,5              |relu            \n",
    "MaxPoolong    |                   |2,2              |             \n",
    "Dropout 50%   |                   |                 |\n",
    "Convolutional | 25                |2,2              |relu       \n",
    "MaxPoolong    |                   |2,2              |        \n",
    "Convolutional | 25                |2,2              |relu    \n",
    "MaxPoolong    |                   |2,2              |       \n",
    "Dense         | 20                |                 |sigmoid\n",
    "Flatten       |                   |                 |            \n",
    "Dense         | 10 (num_class)    |                 |softmax  "
   ]
  },
  {
   "cell_type": "markdown",
   "metadata": {},
   "source": [
    "What emerges from accuracy is that the network had only worsen a little bit, but no substantial change is observble"
   ]
  },
  {
   "cell_type": "code",
   "execution_count": null,
   "metadata": {},
   "outputs": [],
   "source": [
    "print(\"Attempt 4\")\n",
    "model_CNN = load_model(\"Saved/4CNN_C10r55_MP22_DO_C25r22_MP22_C25r22_MP22_sigm20_F_Adagrad.h5\")\n",
    "predictions = model_CNN.predict(X_test)\n",
    "\n",
    "# evaluate model\n",
    "score = model_CNN.evaluate(X_test, Y_test, verbose=1)\n",
    "\n",
    "print(\"Performance on validation data\")\n",
    "print('Test loss:', score[0])\n",
    "print('Test accuracy:', score[1])\n",
    "print()\n",
    "\n",
    "score = model_CNN.evaluate(X_train, Y_train, batch_size=32, verbose=1)\n",
    "\n",
    "print(\"Performance on training data\")\n",
    "print('Test loss:', score[0])\n",
    "print('Test accuracy:', score[1])\n",
    "print()\n",
    "\n",
    "X_test = X_test.reshape(X_test.shape[0], img_rows, img_cols,1)\n",
    "    \n",
    "\n",
    "fig = plt.figure(figsize=(15, 15))   \n",
    "for i in range(10):\n",
    "    ax = plt.subplot(2, 10, i + 1)    \n",
    "    plt.imshow(X_test[i, :, :, 0], cmap='gray')    \n",
    "    plt.title(\"Digit: {}\\nPredicted: {}\".format(np.argmax(Y_test[i]), np.argmax(predictions[i])))    \n",
    "    plt.axis('off') \n",
    "plt.show()\n",
    "###########################"
   ]
  },
  {
   "cell_type": "markdown",
   "metadata": {},
   "source": [
    "***Attempt 5***  \n",
    "Since the previous change almost didn't influenced the results I add some filters to increase once again the number of parameters."
   ]
  },
  {
   "cell_type": "markdown",
   "metadata": {},
   "source": [
    "Type of Layer | N filters/neurons | ker / pool size | Activation type\n",
    ":-------------|:-----------------:|:---------------:|:---------------\n",
    "Convolutional | 10                |5,5              |relu            \n",
    "MaxPoolong    |                   |2,2              |             \n",
    "Dropout 50%   |                   |                 |\n",
    "Convolutional | 30                |2,2              |relu       \n",
    "MaxPoolong    |                   |2,2              |        \n",
    "Convolutional | 25                |2,2              |relu    \n",
    "MaxPoolong    |                   |2,2              |       \n",
    "Dense         | 20                |                 |sigmoid\n",
    "Flatten       |                   |                 |            \n",
    "Dense         | 10 (num_class)    |                 |softmax  "
   ]
  },
  {
   "cell_type": "markdown",
   "metadata": {},
   "source": [
    "This attempt gave a slight improvement in prediction accuracy, so I individuated the layer touched here as the one to work on."
   ]
  },
  {
   "cell_type": "code",
   "execution_count": null,
   "metadata": {},
   "outputs": [],
   "source": [
    "print(\"Attempt 5\")\n",
    "    \n",
    "model_CNN = load_model(\"Saved/5CNN_C10r55_MP22_DO_C30r22_MP22_C25r22_MP22_sigm20_F_Adagrad.h5\")\n",
    "predictions = model_CNN.predict(X_test)\n",
    "\n",
    "# evaluate model\n",
    "score = model_CNN.evaluate(X_test, Y_test, verbose=1)\n",
    "\n",
    "print(\"Performance on validation data\")\n",
    "print('Test loss:', score[0])\n",
    "print('Test accuracy:', score[1])\n",
    "print()\n",
    "\n",
    "score = model_CNN.evaluate(X_train, Y_train, batch_size=32, verbose=1)\n",
    "\n",
    "print(\"Performance on training data\")\n",
    "print('Test loss:', score[0])\n",
    "print('Test accuracy:', score[1])\n",
    "print()\n",
    "\n",
    "X_test = X_test.reshape(X_test.shape[0], img_rows, img_cols,1)\n",
    "    \n",
    "\n",
    "fig = plt.figure(figsize=(15, 15))   \n",
    "for i in range(10):\n",
    "    ax = plt.subplot(2, 10, i + 1)    \n",
    "    plt.imshow(X_test[i, :, :, 0], cmap='gray')    \n",
    "    plt.title(\"Digit: {}\\nPredicted: {}\".format(np.argmax(Y_test[i]), np.argmax(predictions[i])))    \n",
    "    plt.axis('off') \n",
    "plt.show()\n",
    "###########################"
   ]
  },
  {
   "cell_type": "markdown",
   "metadata": {},
   "source": [
    "***Attempts 6-9***  \n",
    "Given the last information I decided to go back on my steps removing definitively the dense layer with sigmoid activation and then incresing repeatedly the number of filters in the second convolutional layer. The shape of the CNN is the following where *n = 30, 40, 60, 100* for respectevely attempts *6, 7, 8, 9*."
   ]
  },
  {
   "cell_type": "markdown",
   "metadata": {},
   "source": [
    "Type of Layer | N filters/neurons | ker / pool size | Activation type\n",
    ":-------------|:-----------------:|:---------------:|:---------------\n",
    "Convolutional | 10                |5,5              |relu            \n",
    "MaxPoolong    |                   |2,2              |             \n",
    "Dropout 50%   |                   |                 |\n",
    "Convolutional | *n*               |2,2              |relu       \n",
    "MaxPoolong    |                   |2,2              |        \n",
    "Convolutional | 25                |2,2              |relu    \n",
    "MaxPoolong    |                   |2,2              |       \n",
    "Flatten       |                   |                 |            \n",
    "Dense         | 10 (num_class)    |                 |softmax  "
   ]
  },
  {
   "cell_type": "markdown",
   "metadata": {},
   "source": [
    "Following are the evaluations of all these models, it can be seen that accuracy increases until reaches 97% which is comparable to what I obtained with DNNs, confirming that the second convlolutional layer was actually the one to work on."
   ]
  },
  {
   "cell_type": "code",
   "execution_count": null,
   "metadata": {},
   "outputs": [],
   "source": [
    "print(\"Attempt 6\")\n",
    "    \n",
    "model_CNN = load_model(\"Saved/6CNN_C10r55_MP22_DO_C30r22_MP22_C25r22_MP22_F_Adagrad.h5\")\n",
    "predictions = model_CNN.predict(X_test)\n",
    "\n",
    "# evaluate model\n",
    "score = model_CNN.evaluate(X_test, Y_test, verbose=1)\n",
    "\n",
    "print(\"Performance on validation data\")\n",
    "print('Test loss:', score[0])\n",
    "print('Test accuracy:', score[1])\n",
    "print()\n",
    "\n",
    "score = model_CNN.evaluate(X_train, Y_train, batch_size=32, verbose=1)\n",
    "\n",
    "print(\"Performance on training data\")\n",
    "print('Test loss:', score[0])\n",
    "print('Test accuracy:', score[1])\n",
    "print()\n",
    "\n",
    "X_test = X_test.reshape(X_test.shape[0], img_rows, img_cols,1)\n",
    "    \n",
    "\n",
    "fig = plt.figure(figsize=(15, 15))   \n",
    "for i in range(10):\n",
    "    ax = plt.subplot(2, 10, i + 1)    \n",
    "    plt.imshow(X_test[i, :, :, 0], cmap='gray')    \n",
    "    plt.title(\"Digit: {}\\nPredicted: {}\".format(np.argmax(Y_test[i]), np.argmax(predictions[i])))    \n",
    "    plt.axis('off') \n",
    "plt.show()\n",
    "###########################\n",
    "\n",
    "\n",
    "print(\"Attempt 7\")\n",
    "    \n",
    "model_CNN = load_model(\"Saved/7CNN_C10r55_MP22_DO_C40r22_MP22_C25r22_MP22_F_Adagrad.h5\")\n",
    "predictions = model_CNN.predict(X_test)\n",
    "\n",
    "# evaluate model\n",
    "score = model_CNN.evaluate(X_test, Y_test, verbose=1)\n",
    "\n",
    "print(\"Performance on validation data\")\n",
    "print('Test loss:', score[0])\n",
    "print('Test accuracy:', score[1])\n",
    "print()\n",
    "\n",
    "score = model_CNN.evaluate(X_train, Y_train, batch_size=32, verbose=1)\n",
    "\n",
    "print(\"Performance on training data\")\n",
    "print('Test loss:', score[0])\n",
    "print('Test accuracy:', score[1])\n",
    "print()\n",
    "\n",
    "X_test = X_test.reshape(X_test.shape[0], img_rows, img_cols,1)\n",
    "    \n",
    "\n",
    "fig = plt.figure(figsize=(15, 15))   \n",
    "for i in range(10):\n",
    "    ax = plt.subplot(2, 10, i + 1)    \n",
    "    plt.imshow(X_test[i, :, :, 0], cmap='gray')    \n",
    "    plt.title(\"Digit: {}\\nPredicted: {}\".format(np.argmax(Y_test[i]), np.argmax(predictions[i])))    \n",
    "    plt.axis('off') \n",
    "plt.show()\n",
    "###########################\n",
    "\n",
    "print(\"Attempt 8\")\n",
    "    \n",
    "model_CNN = load_model(\"Saved/8CNN_C10r55_MP22_DO_C60r22_MP22_C25r22_MP22_F_Adagrad.h5\")\n",
    "predictions = model_CNN.predict(X_test)\n",
    "\n",
    "# evaluate model\n",
    "score = model_CNN.evaluate(X_test, Y_test, verbose=1)\n",
    "\n",
    "print(\"Performance on validation data\")\n",
    "print('Test loss:', score[0])\n",
    "print('Test accuracy:', score[1])\n",
    "print()\n",
    "\n",
    "score = model_CNN.evaluate(X_train, Y_train, batch_size=32, verbose=1)\n",
    "\n",
    "print(\"Performance on training data\")\n",
    "print('Test loss:', score[0])\n",
    "print('Test accuracy:', score[1])\n",
    "print()\n",
    "\n",
    "X_test = X_test.reshape(X_test.shape[0], img_rows, img_cols,1)\n",
    "    \n",
    "\n",
    "fig = plt.figure(figsize=(15, 15))   \n",
    "for i in range(10):\n",
    "    ax = plt.subplot(2, 10, i + 1)    \n",
    "    plt.imshow(X_test[i, :, :, 0], cmap='gray')    \n",
    "    plt.title(\"Digit: {}\\nPredicted: {}\".format(np.argmax(Y_test[i]), np.argmax(predictions[i])))    \n",
    "    plt.axis('off') \n",
    "plt.show()\n",
    "###########################\n",
    "\n",
    "print(\"Attempt 9\")\n",
    "    \n",
    "model_CNN = load_model(\"Saved/9CNN_C10r55_MP22_DO_C100r22_MP22_C25r22_MP22_F_Adagrad.h5\")\n",
    "predictions = model_CNN.predict(X_test)\n",
    "\n",
    "# evaluate model\n",
    "score = model_CNN.evaluate(X_test, Y_test, verbose=1)\n",
    "\n",
    "print(\"Performance on validation data\")\n",
    "print('Test loss:', score[0])\n",
    "print('Test accuracy:', score[1])\n",
    "print()\n",
    "\n",
    "score = model_CNN.evaluate(X_train, Y_train, batch_size=32, verbose=1)\n",
    "\n",
    "print(\"Performance on training data\")\n",
    "print('Test loss:', score[0])\n",
    "print('Test accuracy:', score[1])\n",
    "print()\n",
    "\n",
    "X_test = X_test.reshape(X_test.shape[0], img_rows, img_cols,1)\n",
    "    \n",
    "\n",
    "fig = plt.figure(figsize=(15, 15))   \n",
    "for i in range(10):\n",
    "    ax = plt.subplot(2, 10, i + 1)    \n",
    "    plt.imshow(X_test[i, :, :, 0], cmap='gray')    \n",
    "    plt.title(\"Digit: {}\\nPredicted: {}\".format(np.argmax(Y_test[i]), np.argmax(predictions[i])))    \n",
    "    plt.axis('off') \n",
    "plt.show()\n",
    "###########################\n"
   ]
  },
  {
   "cell_type": "markdown",
   "metadata": {},
   "source": [
    "***Attempt 10***  \n",
    "As last attempt I increased the number *n* of filters once again, but this resulted in a reduce accuracy therefore I estimated that the optimal value for this parameter may be *100* as used in attempt *9*. For sure the network can be improved, but I find that 97% of accuracy is a reasonable value to stop.  \n",
    "For completeness I show below the evaluation of last model, even though it represents a step back."
   ]
  },
  {
   "cell_type": "code",
   "execution_count": null,
   "metadata": {},
   "outputs": [],
   "source": [
    "print(\"Attempt 10\")\n",
    "    \n",
    "model_CNN = load_model(\"Saved/10CNN_C10r55_MP22_DO_C200r22_MP22_C25r22_MP22_F_Adagrad.h5\")\n",
    "predictions = model_CNN.predict(X_test)\n",
    "\n",
    "# evaluate model\n",
    "score = model_CNN.evaluate(X_test, Y_test, verbose=1)\n",
    "\n",
    "print(\"Performance on validation data\")\n",
    "print('Test loss:', score[0])\n",
    "print('Test accuracy:', score[1])\n",
    "print()\n",
    "\n",
    "score = model_CNN.evaluate(X_train, Y_train, batch_size=32, verbose=1)\n",
    "\n",
    "print(\"Performance on training data\")\n",
    "print('Test loss:', score[0])\n",
    "print('Test accuracy:', score[1])\n",
    "print()\n",
    "\n",
    "X_test = X_test.reshape(X_test.shape[0], img_rows, img_cols,1)\n",
    "    \n",
    "\n",
    "fig = plt.figure(figsize=(15, 15))   \n",
    "for i in range(10):\n",
    "    ax = plt.subplot(2, 10, i + 1)    \n",
    "    plt.imshow(X_test[i, :, :, 0], cmap='gray')    \n",
    "    plt.title(\"Digit: {}\\nPredicted: {}\".format(np.argmax(Y_test[i]), np.argmax(predictions[i])))    \n",
    "    plt.axis('off') \n",
    "plt.show()\n",
    "###########################\n",
    "\n"
   ]
  },
  {
   "cell_type": "markdown",
   "metadata": {},
   "source": [
    "##### <span style=\"color:black\"> Exercise 12.3 </span>"
   ]
  },
  {
   "cell_type": "markdown",
   "metadata": {},
   "source": [
    "The best CNN I've been able to train manages to recognize all the digit I wrote. Even if they are not bad written, the *7* for example takes up a little portion of the entire image and thanks to Maxpooling and Convolution the CNN predicts it rightly, while the DNN can't. This confirms the capacity of CNN to learn even if images are not perfectly centered in the square."
   ]
  },
  {
   "cell_type": "code",
   "execution_count": 4,
   "metadata": {},
   "outputs": [
    {
     "name": "stdout",
     "output_type": "stream",
     "text": [
      "Test data shape =  (10, 28, 28)\n"
     ]
    }
   ],
   "source": [
    "from PIL import Image\n",
    "import os\n",
    "import numpy as np\n",
    "import matplotlib.pyplot as plt\n",
    "\n",
    "digit_test = np.zeros((10,28, 28))\n",
    "digit_target = np.zeros((10,10))\n",
    "\n",
    "for k in range (10):\n",
    "    \n",
    "    digit_filename = \"./Digits/{}.png\".format(k)\n",
    "    digit_in = Image.open(digit_filename).convert('L')\n",
    "    digit_target[k,k] = 1\n",
    "    ydim, xdim = digit_in.size\n",
    "#    print(\"Image size: \"+str(xdim)+\"x\"+str(ydim))\n",
    "    pix=digit_in.load();\n",
    "    data = np.zeros((xdim, ydim))\n",
    "    for j in range(ydim):\n",
    "        for i in range(xdim):\n",
    "            data[i,j]=pix[j,i]\n",
    "\n",
    "    data /= 255\n",
    "    digit_test[k] = data\n",
    "    \n",
    "print(\"Test data shape = \", digit_test.shape)"
   ]
  },
  {
   "cell_type": "code",
   "execution_count": 6,
   "metadata": {},
   "outputs": [
    {
     "name": "stdout",
     "output_type": "stream",
     "text": [
      "WARNING:tensorflow:From /home/matteo/.conda/envs/intelpython3/lib/python3.6/site-packages/tensorflow/python/ops/resource_variable_ops.py:435: colocate_with (from tensorflow.python.framework.ops) is deprecated and will be removed in a future version.\n",
      "Instructions for updating:\n",
      "Colocations handled automatically by placer.\n",
      "WARNING:tensorflow:From /home/matteo/.conda/envs/intelpython3/lib/python3.6/site-packages/tensorflow/python/keras/layers/core.py:143: calling dropout (from tensorflow.python.ops.nn_ops) with keep_prob is deprecated and will be removed in a future version.\n",
      "Instructions for updating:\n",
      "Please use `rate` instead of `keep_prob`. Rate should be set to `rate = 1 - keep_prob`.\n",
      "WARNING:tensorflow:From /home/matteo/.conda/envs/intelpython3/lib/python3.6/site-packages/tensorflow/python/ops/math_ops.py:3066: to_int32 (from tensorflow.python.ops.math_ops) is deprecated and will be removed in a future version.\n",
      "Instructions for updating:\n",
      "Use tf.cast instead.\n"
     ]
    }
   ],
   "source": [
    "#load best trained CNN\n",
    "from tensorflow.keras.models import load_model\n",
    "model_CNN = load_model(\"Saved/9CNN_C10r55_MP22_DO_C100r22_MP22_C25r22_MP22_F_Adagrad.h5\")"
   ]
  },
  {
   "cell_type": "code",
   "execution_count": 7,
   "metadata": {},
   "outputs": [
    {
     "name": "stdout",
     "output_type": "stream",
     "text": [
      "CNN\n",
      "10/10 [==============================] - 0s 25ms/sample - loss: 0.2334 - acc: 1.0000\n",
      "Performance on validation data\n",
      "Test loss: 0.2334439754486084\n",
      "Test accuracy: 1.0\n",
      "\n"
     ]
    },
    {
     "data": {
      "image/png": "[encoded data removed]",
      "text/plain": [
       "<Figure size 1080x1080 with 10 Axes>"
      ]
     },
     "metadata": {},
     "output_type": "display_data"
    },
    {
     "name": "stdout",
     "output_type": "stream",
     "text": [
      "DNN\n",
      "10/10 [==============================] - 0s 18ms/sample - loss: 2.4483 - acc: 0.6000\n",
      "Performance on validation data\n",
      "Test loss: 2.448308229446411\n",
      "Test accuracy: 0.6\n",
      "\n"
     ]
    },
    {
     "data": {
      "image/png": "[encoded data removed]",
      "text/plain": [
       "<Figure size 1080x1080 with 10 Axes>"
      ]
     },
     "metadata": {},
     "output_type": "display_data"
    }
   ],
   "source": [
    "#predict data\n",
    "if keras.backend.image_data_format() == 'channels_first':\n",
    "    digit_test = digit_test.reshape(digit_test.shape[0], 1, img_rows, img_cols)\n",
    "    input_shape = (1, img_rows, img_cols)\n",
    "else:\n",
    "    digit_test = digit_test.reshape(digit_test.shape[0], img_rows, img_cols, 1)\n",
    "    input_shape = (img_rows, img_cols, 1)\n",
    "    \n",
    "\n",
    "predictions = model_CNN.predict(digit_test)\n",
    "# evaluate model\n",
    "print(\"CNN\")\n",
    "\n",
    "score = model_CNN.evaluate(digit_test, digit_target, verbose=1)\n",
    "\n",
    "\n",
    "print(\"Performance on validation data\")\n",
    "print('Test loss:', score[0])\n",
    "print('Test accuracy:', score[1])\n",
    "print()\n",
    "\n",
    "fig = plt.figure(figsize=(15, 15))   \n",
    "for i in range(10):\n",
    "    ax = plt.subplot(2, 10, i + 1)       \n",
    "    plt.imshow(digit_test[i, :, :, 0], cmap='gray')   \n",
    "    plt.title(\"Digit: {}\\nPredicted: {}\".format(np.argmax(digit_target[i]), np.argmax(predictions[i])))    \n",
    "    plt.axis('off') \n",
    "plt.show()\n",
    "###########################\n",
    "\n",
    "print(\"DNN\")\n",
    "\n",
    "digit_test = digit_test.reshape(digit_test.shape[0], img_rows*img_cols)\n",
    "model_DNN = load_model(\"Saved/DNN_Adagrad.mod\")\n",
    "predictions = model_DNN.predict(digit_test)\n",
    "\n",
    "# evaluate model\n",
    "score = model_DNN.evaluate(digit_test, digit_target, verbose=1)\n",
    "\n",
    "print(\"Performance on validation data\")\n",
    "print('Test loss:', score[0])\n",
    "print('Test accuracy:', score[1])\n",
    "print()\n",
    "\n",
    "if keras.backend.image_data_format() == 'channels_first':\n",
    "    digit_test = digit_test.reshape(digit_test.shape[0], 1, img_rows, img_cols)\n",
    "    input_shape = (1, img_rows, img_cols)\n",
    "else:\n",
    "    digit_test = digit_test.reshape(digit_test.shape[0], img_rows, img_cols, 1)\n",
    "    input_shape = (img_rows, img_cols, 1)\n",
    "    \n",
    "\n",
    "fig = plt.figure(figsize=(15, 15))   \n",
    "for i in range(10):\n",
    "    ax = plt.subplot(2, 10, i + 1)       \n",
    "    plt.imshow(digit_test[i, :, :, 0], cmap='gray')   \n",
    "    plt.title(\"Digit: {}\\nPredicted: {}\".format(np.argmax(digit_target[i]), np.argmax(predictions[i])))    \n",
    "    plt.axis('off') \n",
    "plt.show()"
   ]
  }
 ],
 "metadata": {
  "kernelspec": {
   "display_name": "Python 3",
   "language": "python",
   "name": "python3"
  },
  "language_info": {
   "codemirror_mode": {
    "name": "ipython",
    "version": 3
   },
   "file_extension": ".py",
   "mimetype": "text/x-python",
   "name": "python",
   "nbconvert_exporter": "python",
   "pygments_lexer": "ipython3",
   "version": "3.6.5"
  }
 },
 "nbformat": 4,
 "nbformat_minor": 2
}
